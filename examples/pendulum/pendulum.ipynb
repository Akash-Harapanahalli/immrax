{
 "cells": [
  {
   "cell_type": "markdown",
   "metadata": {},
   "source": [
    "(Pendulum)=\n",
    "# Robust Optimal Control on a Pendulum Using Automatic Differentiation\n",
    "\n",
    "In this example, we use Automatic Differentiation to solve a robust optimal control problem in the embedding space of a nonlinear pendulum. In particular, we build an objective function with robust constraints, automatically create and compile functions evaluating their gradients, Jacobians, and Hessians, and finally setup an interior point minimization problem to find a locally optimal solution using IPOPT.\n",
    "\n",
    "This example is from the paper \"$\\texttt{immrax}$: A Parallalizable and Differentiable Toolbox for Interval Analysis and Mixed Monotone Reachability in JAX\"."
   ]
  },
  {
   "cell_type": "markdown",
   "metadata": {},
   "source": [
    "## Preliminaries\n",
    "\n",
    "To run this example, you'll need `cyipopt` and the MA57 linear solver from HSL. See the [Installation](Installation) page for more information on how to install these."
   ]
  },
  {
   "cell_type": "code",
   "execution_count": 1,
   "metadata": {},
   "outputs": [
    {
     "name": "stderr",
     "output_type": "stream",
     "text": [
      "2024-05-07 09:51:37.573394: E external/xla/xla/stream_executor/cuda/cuda_driver.cc:273] failed call to cuInit: CUDA_ERROR_UNKNOWN: unknown error\n",
      "CUDA backend failed to initialize: FAILED_PRECONDITION: No visible GPU devices. (Set TF_CPP_MIN_LOG_LEVEL=0 and rerun for more info.)\n"
     ]
    }
   ],
   "source": [
    "import jax\n",
    "import jax.numpy as jnp\n",
    "import immrax as irx\n",
    "from typing import Tuple"
   ]
  },
  {
   "cell_type": "markdown",
   "metadata": {},
   "source": [
    "We will be using IPOPT to solve a minimization problem. Since IPOPT is CPU-based and 64-bit, we configure JAX with these options as well. We can use the GPU here instead of the CPU for some operations, but empirically, the time to transfer data between the CPU and GPU is much larger than the amount of time the problem takes on the CPU only."
   ]
  },
  {
   "cell_type": "code",
   "execution_count": 2,
   "metadata": {},
   "outputs": [],
   "source": [
    "# Some configurations\n",
    "jax.config.update(\"jax_enable_x64\", True)\n",
    "\n",
    "# We wrap the jax.jit function to set the backend to cpu by default for convenience.\n",
    "device = 'cpu'\n",
    "def jit (*args, **kwargs):\n",
    "    kwargs.setdefault('backend', device)\n",
    "    return jax.jit(*args, **kwargs)"
   ]
  },
  {
   "cell_type": "markdown",
   "metadata": {},
   "source": [
    "### The pendulum's dynamics\n",
    "Consider the dynamics of a forced, damped pendulum\n",
    "\n",
    "$$\n",
    "ml^2\\ddot{\\theta} + b\\dot{\\theta} + mgl\\sin(\\theta) = \\tau\n",
    "$$\n",
    "\n",
    "with $m=0.15\\mathrm{kg}$, $l=0.5\\mathrm{m}$, $b=0.1\\mathrm{N\\cdot m \\cdot s}$, and $g=9.81\\mathrm{m}/\\mathrm{s}^2$.\n",
    "The torque $\\tau := (1 + w)u$, where $u\\in\\mathbb{R}$ is the desired torque input and $w\\in[\\underline{w},\\overline{w}] := [-0.02,0.02]$ is a bounded multiplicative disturbance on the control input. We implement this as a $2$-state system with $x := (\\theta, \\dot{\\theta})$,\n",
    "\n",
    "$$\n",
    "\\dot{x} = \n",
    "     f(x,u,w) = \n",
    "     \\left[\\begin{matrix} x_2 \\\\ \\frac{(1 + w)u - bx_2}{ml^2} - \\frac{g}{l}\\sin x_1 \\end{matrix}\\right]\n",
    "$$\n",
    "\n",
    "This is implemented in `immrax` as a `System`, with the specified dynamics written using `jax.numpy`."
   ]
  },
  {
   "cell_type": "code",
   "execution_count": 3,
   "metadata": {},
   "outputs": [],
   "source": [
    "g = 9.81\n",
    "\n",
    "class Pendulum (irx.System) :\n",
    "    m:float\n",
    "    l:float\n",
    "    b:float\n",
    "\n",
    "    def __init__(self, m:float = 0.15, l:float = 0.5, b:float = 0.1) -> None:\n",
    "        # Tells immrax that the system is continuous\n",
    "        self.evolution = 'continuous'\n",
    "        # Tells immrax the number of states\n",
    "        self.xlen = 2\n",
    "        self.m = m\n",
    "        self.l = l\n",
    "        self.b = b\n",
    "        self.fi = [\n",
    "            lambda t, x, u, w : x[1],\n",
    "            lambda t, x, u, w : (((1 + w[0])*u[0] - self.b*x[1]) / ((self.m) * self.l**2)) - (g/self.l)*jnp.sin(x[0])\n",
    "        ]\n",
    "\n",
    "    def f(self, t: float, x: jax.Array, u: jax.Array, w: jax.Array) -> jax.Array:\n",
    "        # return jnp.array([\n",
    "        #     x[1],\n",
    "        #     (((1 + w[0])*u[0] - self.b*x[1]) / \n",
    "        #         ((self.m) * self.l**2)) - (g/self.l)*jnp.sin(x[0])\n",
    "        # ])\n",
    "        return jnp.array([fi(t, x, u, w) for fi in self.fi])\n",
    "    \n",
    "sys = Pendulum()"
   ]
  },
  {
   "cell_type": "markdown",
   "metadata": {},
   "source": [
    "### Problem Statement\n",
    "We seek to find a finite-time closed-loop optimal control policy $\\pi:[0,T]\\times\\mathbb{R}^n\\to\\mathbb{R}$ to swing up the pendulum to an *a priori* safe region at the top.\n",
    "We consider linear feedback control policies of the form $\\pi(t,x) := K(x(t) - x_{\\mathrm{nom}}(t)) + u_{\\mathrm{ff}}(t)$, where $K$ is a time invariant linear closed-loop stabilizing term to help counter the disturbance, $u_{\\mathrm{ff}}:[0,T]\\to\\mathbb{R}$ is a feedforward control policy, and $x_\\mathrm{nom}:[0,T]\\to\\mathbb{R}^n$ is the nominal trajectory of the deterministic system under the feedforward control law $u_\\mathrm{ff}$ with known disturbance mapping $w_{\\mathrm{nom}}:[0,T]\\to\\mathbb{R}$.\n",
    "The closed-loop system is thus\n",
    "\n",
    "$$ \n",
    "    \\dot{x} = f(x,\\pi(t,x),w) = f^\\pi (t, x, w).\n",
    "$$\n"
   ]
  },
  {
   "cell_type": "markdown",
   "metadata": {},
   "source": [
    "## Embedding System for the Pendulum\n",
    "Consider the following function\n",
    "\n",
    "$$\n",
    "\\begin{align*}\n",
    "[\\textsf{F}^\\pi(t,\\underline{x},\\overline{x},\\underline{w},\\overline{w})] := &\\, ([\\textsf{M}_x] + [\\textsf{M}_u]K)([\\underline{x},\\overline{x}] - x_\\mathrm{nom}(t)) \\\\\n",
    "    % &+ [\\textsf{M}_u^\\mathcal{O}]([\\ulu,\\olu] - \\mathring{u}) \n",
    "    & + [\\textsf{M}_w]([\\underline{w},\\overline{w}] - w_\\mathrm{nom}(t)) \\\\\n",
    "    & + f(x_\\mathrm{nom}(t),u_{\\mathrm{ff}}(t),w_\\mathrm{nom}(t)),\n",
    "\\end{align*}\n",
    "$$\n",
    "\n",
    "with $[\\textsf{M}_x\\ \\textsf{M}_u\\ \\textsf{M}_w] := [\\textsf{M}_\\sigma^{\\xi_\\mathrm{nom}(t)}(\\underline{x},\\overline{x},u_\\mathrm{ff}(t),u_\\mathrm{ff}(t),\\underline{w},\\overline{w})]$, where $\\textsf{M}$ is defined as Proposition~\\ref{prop:MixedJacobian-Based} afor the map $\\hat{f} : \\mathbb{R}^{n+p+q} \\to \\mathbb{R}^n$ such that $\\hat{f}((x,u,w)) := f(x,u,w)$, for some $(n+p+q)$-permutation $\\sigma$, and $\\xi_\\mathrm{nom}(t) := (x_\\mathrm{nom}(t),u_\\mathrm{ff}(t),w_\\mathrm{nom}(t))$.\n",
    "This is a valid inclusion function for the closed-loop dynamics $f^\\pi$~\\eqref{eq:pendulumcldyn} (proof deferred to Appendix~\\ref{apax:sec:proofclpend}, which uses Proposition~\\ref{prop:MixedJacobian-Based} Part~\\eqref{prop:MixedJacobian-Based:p1}).\n",
    "\n",
    "We use the `mjacM` transform to implement the inclusion function in in `immrax`. We expect the nominal values to be given as an input to the inclusion function, which will be calculated externally."
   ]
  },
  {
   "cell_type": "code",
   "execution_count": 4,
   "metadata": {},
   "outputs": [],
   "source": [
    "sys_mjacM = irx.mjacM(sys.f)\n",
    "\n",
    "@jit\n",
    "def F (t:irx.Interval, x:irx.Interval, w:irx.Interval, *, K:jnp.ndarray, \n",
    "       nominal:Tuple[jnp.ndarray, jnp.ndarray, jnp.ndarray, jnp.ndarray]) :\n",
    "    tc, xc, uc, wc = nominal\n",
    "    Mt, Mx, Mu, Mw = sys_mjacM(t, x, irx.interval(uc), w, centers=(nominal,))[0]\n",
    "    return (\n",
    "        (Mx + Mu @ irx.interval(K)) @ (x - xc)\n",
    "        + Mw @ (w - wc) + sys.f(tc, xc, uc, wc)\n",
    "    )"
   ]
  },
  {
   "cell_type": "markdown",
   "metadata": {},
   "source": [
    "Following the treatment from the paper, now that we have an inclusion function for the dynamics of the system, we will embed the closed-loop pendulum dynamics into a new $2n$-dimensional embedding system that provides efficient bounds for its reachable set.\n",
    "\n",
    "$$\n",
    "\\dot{\\underline{x}}_i = \\underline{\\textsf{E}}_i(t,\\underline{x},\\overline{x},\\underline{w},\\overline{w}) := \\underline{\\textsf{F}}_i^\\pi(t,\\underline{x},\\overline{x}_{i:\\underline{x}},\\underline{w},\\overline{x}), \\\\\n",
    "\\dot{\\overline{x}}_i = \\overline{\\textsf{E}}_i(t,\\underline{x},\\overline{x},\\underline{w},\\overline{w}) := \\overline{\\textsf{F}}_i^\\pi(t,\\underline{x}_{i:\\overline{x}},\\overline{x},\\underline{w},\\overline{x}),\n",
    "$$\n",
    "\n",
    "This embedding is automatically performed in `immrax` by the `ifemb` transform, which takes a `System` and an inclusion function for its dynamics, and returns the corresponding `EmbeddingSystem`."
   ]
  },
  {
   "cell_type": "code",
   "execution_count": 5,
   "metadata": {},
   "outputs": [],
   "source": [
    "embsys = irx.ifemb(sys, F)"
   ]
  },
  {
   "cell_type": "markdown",
   "metadata": {},
   "source": [
    "## Using Autodiff to Setup an IPOPT Minimization Problem\n",
    "\n",
    "### The problem itself\n",
    "Now that we have the embedding system `embsys`, we will try to solve an optimization problem of the following form:\n",
    "\n",
    "$$\n",
    "\\begin{aligned}\n",
    "    \\min_{u_\\mathrm{ff}, K} &\\sum_{i=1}^N |u_{\\mathrm{ff}}(t_i)|^2 + \\|K\\|_F^2 + \\sum_{i=1}^N \\|\\overline{x}(t_i) - \\underline{x}(t_i)\\|_2^2 \\\\\n",
    "    \\text{s.t.}& \\ \\  \\underline{x}_f \\leq \\underline{x}(t_j),\\ \\ \\overline{x}(t_j) \\leq \\overline{x}_f, \\ \\ j=N_e,\\dots,N, \\ \\\\ \n",
    "    & \\underline{x}(0) = \\overline{x}(0) = (0, 0), \\\\\n",
    "    & \\left[\\begin{matrix} \\underline{x}(t_{i+1}) \\\\ \\overline{x}(t_{i+1}) \\end{matrix}\\right] = \\left[\\begin{matrix} \\underline{x}(t_{i}) \\\\ \\overline{x}(t_{i}) \\end{matrix}\\right] + \\Delta t \\textsf{E}(t_i,\\underline{x}(t_i),\\overline{x}(t_i),\\underline{w},\\overline{w}), \n",
    "\\end{aligned}\n",
    "$$\n",
    "\n",
    "where the embedding dynamics $\\textsf{E}$ are discretized using Euler integration with step size $\\Delta t$.\n",
    "\n",
    "The first and second terms of the objective are typical quadratic conditioning of the decision variables. The third term is a regularization factor intended to help curb the expansion of the gap between the upper and lower bound, which emperically helps the optimization problem converge to a feasible solution.\n",
    "Finally, in the inequality constraints, we require that the pendulum reach a target set $[\\underline{x}_f,\\overline{x}_f]$ and stay within these constraints for $t\\in[t_{N_e},t_N]$."
   ]
  },
  {
   "cell_type": "markdown",
   "metadata": {},
   "source": [
    "### Towards an IPOPT implementation\n",
    "\n",
    "In the following code, we define variables setting up the minimization problem with the following definitions:\n",
    "\n",
    "$$\n",
    "t_0 = 0,\\quad t_{N_e} = 3,\\quad t_N = 3.25,\\quad \\Delta t = 0.05, \\\\\n",
    "[\\underline{x}_f,\\overline{x}_f] = \\left[\\begin{bmatrix} \\pi - \\frac{10\\pi}{360} \\\\ -0.1 \\end{bmatrix} , \\begin{bmatrix} \\pi + \\frac{10\\pi}{360} \\\\ +0.1 \\end{bmatrix}\\right]\n",
    "$$\n"
   ]
  },
  {
   "cell_type": "code",
   "execution_count": 6,
   "metadata": {},
   "outputs": [],
   "source": [
    "# Problem Parameters\n",
    "\n",
    "# Time horizon and discretization\n",
    "t0, te, tf, dt = 0, 3., 3.25, 0.05\n",
    "Ne = round((te - t0)/dt) \n",
    "N = round((tf - t0)/dt) + 1\n",
    "tt = jnp.arange(t0, tf + dt, dt)\n",
    "\n",
    "# Initial condition (no initial perturbation)\n",
    "x0 = irx.interval(jnp.array([0.,0.]))\n",
    "x0ut = irx.i2ut(x0); x0cent, x0pert = irx.i2centpert(x0)\n",
    "\n",
    "# Final set constraint\n",
    "xf = irx.icentpert(jnp.array([jnp.pi,0.]), jnp.array([10.*(jnp.pi/360),0.1]))\n",
    "xfl, xfu = irx.i2lu(xf); xfut = irx.i2ut(xf); xfcent, xfpert = irx.i2centpert(xf)\n",
    "\n",
    "# Disturbance bounds [-0.02, 0.02]\n",
    "w = irx.icentpert(0., 0.02)"
   ]
  },
  {
   "cell_type": "markdown",
   "metadata": {},
   "source": [
    "We put all decision variables into one vector."
   ]
  },
  {
   "cell_type": "code",
   "execution_count": 7,
   "metadata": {},
   "outputs": [],
   "source": [
    "# Initial guess for control u_ff (zeros) and linear matrix K ([-1 -1])\n",
    "K = jnp.array([[-1.,-1.]])\n",
    "u0 = jnp.concatenate((jnp.zeros(N), K.reshape(-1)))\n",
    "\n",
    "# Function to split decision vector into u_ff and K\n",
    "def split_u (u:jax.Array) -> Tuple[jax.Array, jax.Array]:\n",
    "    return u[:-2], u[-2:].reshape(1,2)"
   ]
  },
  {
   "cell_type": "markdown",
   "metadata": {},
   "source": [
    "Next, we implement a couple of helper functions. They use `jax.lax.scan` to perform a simple and efficient Euler integration of the dynamics to the specified time horizon. We could use the `System.compute_trajectory` function instead, which uses `diffrax` to integrate the dynamics with many different options of integrators."
   ]
  },
  {
   "cell_type": "code",
   "execution_count": 8,
   "metadata": {},
   "outputs": [],
   "source": [
    "# Function to rollout the undisturbed pendulum dynamics using Euler integration\n",
    "@jit\n",
    "def rollout_ol_sys_undisturbed (u:jax.Array) -> jax.Array :\n",
    "    u, K = split_u(u)\n",
    "    def f_euler (xt, ut) :\n",
    "        xtp1 = xt + dt*sys.f(0., xt, jnp.array([ut]), jnp.array([0.]))\n",
    "        return (xtp1, xtp1)\n",
    "    _, x = jax.lax.scan(f_euler, x0cent, u)\n",
    "    return x\n",
    "\n",
    "# Function to rollout the closed-loop embedding system dynamics using Euler integration\n",
    "@jit\n",
    "def rollout_cl_embsys (u:jax.Array) -> jax.Array :\n",
    "    u, K = split_u(u)\n",
    "    def f_euler (xt, ut) :\n",
    "        xtut, xnomt = xt\n",
    "        xtutp1 = xtut + dt*embsys.E(irx.interval([0.]), xtut, w, K=K, \n",
    "                        nominal=(jnp.array([0.]), xnomt, jnp.array([ut]), jnp.array([0.])))\n",
    "        xnomtp1 = xnomt + dt*sys.f(0., xnomt, jnp.array([ut]), jnp.array([0.]))\n",
    "        return ((xtutp1,xnomtp1), xtutp1)\n",
    "    _, x = jax.lax.scan(f_euler, (x0ut, x0cent), u)\n",
    "    return x"
   ]
  },
  {
   "cell_type": "markdown",
   "metadata": {},
   "source": [
    "Using the `rollout_cl_embsys` function, we implement the desired objective function above."
   ]
  },
  {
   "cell_type": "code",
   "execution_count": 9,
   "metadata": {},
   "outputs": [],
   "source": [
    "# Objective Function\n",
    "@jit\n",
    "def obj (u:jax.Array) -> jax.Array :\n",
    "    x = rollout_cl_embsys(u)\n",
    "    return jnp.sum(u**2) + jnp.sum((x[:,2:] - x[:,:2])**2)"
   ]
  },
  {
   "cell_type": "markdown",
   "metadata": {},
   "source": [
    "Next, we implement the inequality terminal set constraints as a function `con_ineq(u)` $\\geq 0$."
   ]
  },
  {
   "cell_type": "code",
   "execution_count": 10,
   "metadata": {},
   "outputs": [],
   "source": [
    "# Inequality constraints\n",
    "@jit\n",
    "def con_ineq (u) :\n",
    "    x = rollout_cl_embsys(u)\n",
    "    return jnp.concatenate(((x[Ne:,:2] - xfl).reshape(-1), \n",
    "                            (xfu - x[Ne:,2:]).reshape(-1)))"
   ]
  },
  {
   "cell_type": "markdown",
   "metadata": {},
   "source": [
    "### The Automatic Differentiation Step\n",
    "\n",
    "Next, we use JAX's autodiff transforms to automatically create functions to compute the objective's gradient and Hessian, as well as the Jacobian and Hessian vector product of the constraints with respect to the Lagrange multipliers. We precompile (JIT compile) these functions to separate their compilation from the rest of the stack."
   ]
  },
  {
   "cell_type": "code",
   "execution_count": 11,
   "metadata": {},
   "outputs": [
    {
     "name": "stdout",
     "output_type": "stream",
     "text": [
      "JIT Compiling Autodiff Functions...\n",
      "Finished JIT for obj\n",
      "Finished JIT for obj_grad\n",
      "Finished JIT for obj_hess\n",
      "Finished JIT for con_ineq_jac\n",
      "Finished JIT for con_ineq_hessvp\n",
      "Finished JIT Compiling Autodiff Functions in 71.80630540847778 seconds\n"
     ]
    }
   ],
   "source": [
    "obj_grad = jit(jax.grad(obj))  # Objective Gradient\n",
    "obj_hess = jit(jax.jacfwd(jax.jacrev(obj)))  # Objective Hessian\n",
    "con_ineq_jac = jit(jax.jacfwd(con_ineq))  # Constraint Jacobian\n",
    "con_ineq_hess = jit(jax.jacfwd(jax.jacrev(con_ineq))) # Constraint Hessian\n",
    "\n",
    "# Constraint Hessian-Vector Product\n",
    "@jit\n",
    "def con_ineq_hessvp (u, v) :\n",
    "    def hessvp (u) :\n",
    "        _, hvp = jax.vjp(con_ineq, u)\n",
    "        return hvp(v)[0] # One tangent, one output. u^T dc_v\n",
    "    return jax.jacrev(hessvp)(u) \n",
    "\n",
    "print('JIT Compiling Autodiff Functions...')\n",
    "from time import time\n",
    "time0 = time()\n",
    "obj(u0)\n",
    "print('Finished JIT for obj')\n",
    "obj_grad(u0)\n",
    "print('Finished JIT for obj_grad')\n",
    "obj_hess(u0)\n",
    "print('Finished JIT for obj_hess')\n",
    "con_ineq_jac(u0)\n",
    "print('Finished JIT for con_ineq_jac')\n",
    "con_ineq_hessvp(u0, jnp.ones(4*(N - Ne)))\n",
    "print('Finished JIT for con_ineq_hessvp')\n",
    "timef = time()\n",
    "print(f'Finished JIT Compiling Autodiff Functions in {timef - time0} seconds')"
   ]
  },
  {
   "cell_type": "markdown",
   "metadata": {},
   "source": [
    "## Minimization in IPOPT\n",
    "\n",
    "Finally, we solve the optimization problem from above using a call to IPOPT."
   ]
  },
  {
   "cell_type": "code",
   "execution_count": 12,
   "metadata": {},
   "outputs": [
    {
     "name": "stdout",
     "output_type": "stream",
     "text": [
      "\n",
      "******************************************************************************\n",
      "This program contains Ipopt, a library for large-scale nonlinear optimization.\n",
      " Ipopt is released as open source code under the Eclipse Public License (EPL).\n",
      "         For more information visit https://github.com/coin-or/Ipopt\n",
      "******************************************************************************\n",
      "\n",
      "Total number of variables............................:       68\n",
      "                     variables with only lower bounds:        0\n",
      "                variables with lower and upper bounds:        0\n",
      "                     variables with only upper bounds:        0\n",
      "Total number of equality constraints.................:        0\n",
      "Total number of inequality constraints...............:       24\n",
      "        inequality constraints with only lower bounds:       24\n",
      "   inequality constraints with lower and upper bounds:        0\n",
      "        inequality constraints with only upper bounds:        0\n",
      "\n",
      "Reallocating memory for MA57: lfact (22686)\n",
      "Reallocating memory for MA57: lfact (24303)\n",
      "\n",
      "Number of Iterations....: 100\n",
      "\n",
      "                                   (scaled)                 (unscaled)\n",
      "Objective...............:   1.0599629732578336e+01    1.0599629732578336e+01\n",
      "Dual infeasibility......:   2.6437461954400110e-01    2.6437461954400110e-01\n",
      "Constraint violation....:   1.1136023798504960e-02    1.1136023798504960e-02\n",
      "Variable bound violation:   0.0000000000000000e+00    0.0000000000000000e+00\n",
      "Complementarity.........:   8.3234253697859497e-04    8.3234253697859497e-04\n",
      "Overall NLP error.......:   2.6437461954400110e-01    2.6437461954400110e-01\n",
      "\n",
      "\n",
      "Number of objective function evaluations             = 173\n",
      "Number of objective gradient evaluations             = 101\n",
      "Number of equality constraint evaluations            = 0\n",
      "Number of inequality constraint evaluations          = 177\n",
      "Number of equality constraint Jacobian evaluations   = 0\n",
      "Number of inequality constraint Jacobian evaluations = 102\n",
      "Number of Lagrangian Hessian evaluations             = 100\n",
      "Total seconds in IPOPT                               = 2.955\n",
      "\n",
      "EXIT: Maximum Number of Iterations Exceeded.\n"
     ]
    }
   ],
   "source": [
    "from cyipopt import minimize_ipopt\n",
    "\n",
    "# Constraints\n",
    "cons = [ {'type': 'ineq', 'fun': con_ineq, 'jac': con_ineq_jac, 'hess': con_ineq_hessvp}, ]\n",
    "bnds = [(-100.,100.) for _ in range(u0.size)]\n",
    "\n",
    "ipopt_opts = {\n",
    "    b'disp': 4, \n",
    "    b'linear_solver': 'ma57', \n",
    "    b'hsllib': 'libcoinhsl.so', \n",
    "    b'tol': 1e-3,\n",
    "    b'max_iter': 100,\n",
    "}\n",
    "\n",
    "# Solve the optimization problem\n",
    "res = minimize_ipopt(obj, jac=obj_grad, hess=obj_hess, x0=u0,\n",
    "                     constraints=cons, options=ipopt_opts)"
   ]
  },
  {
   "cell_type": "markdown",
   "metadata": {},
   "source": [
    "## Visualizing the Results"
   ]
  },
  {
   "cell_type": "code",
   "execution_count": 13,
   "metadata": {},
   "outputs": [
    {
     "name": "stdout",
     "output_type": "stream",
     "text": [
      "u_ff = [-5.19509621e-02 -4.46945151e-02 -3.01148257e-02 -8.49898411e-03\n",
      " -8.34678801e-02  3.16691655e-02  6.94036994e-02  3.80623441e-02\n",
      "  6.26484317e-02  1.03810890e-01  1.40219792e-01  1.69607553e-01\n",
      "  1.89878036e-01  1.99237773e-01  1.96333915e-01  1.80364817e-01\n",
      "  1.51158741e-01  1.09209027e-01  5.56607883e-02 -7.66512668e-03\n",
      " -1.68156360e-02 -9.36747125e-02 -1.72329605e-01 -2.47813171e-01\n",
      " -3.15745184e-01 -3.71629617e-01 -4.11245555e-01 -4.31107503e-01\n",
      " -4.28884170e-01 -4.03618963e-01 -3.55652760e-01 -2.86282392e-01\n",
      " -1.97306742e-01 -9.06678427e-02  2.86095472e-03  1.32614401e-01\n",
      "  2.79282214e-01  4.30851262e-01  5.79791985e-01  7.15992669e-01\n",
      "  8.27856824e-01  9.04841238e-01  9.40663773e-01  9.35613266e-01\n",
      "  8.96359244e-01  8.33290247e-01  7.57400421e-01  6.75986585e-01\n",
      "  5.94398260e-01  5.17430310e-01  4.46515547e-01  3.82098901e-01\n",
      "  3.23773543e-01  2.70604646e-01  2.21266590e-01  1.74071831e-01\n",
      "  1.26903786e-01  7.70797891e-02  2.09998205e-02 -3.19231292e-02\n",
      " -1.13427628e-01  3.27080699e-02  2.62682146e-02  1.79044687e-02\n",
      "  6.49860810e-03 -5.01668237e-04],\n",
      "K = [[-0.04145471 -0.7347855 ]]\n"
     ]
    }
   ],
   "source": [
    "# Plotting imports\n",
    "%matplotlib widget\n",
    "import matplotlib.pyplot as plt\n",
    "import matplotlib.animation as animation\n",
    "from matplotlib.patches import Wedge\n",
    "from immrax.utils import plot_interval_t\n",
    "\n",
    "# Use latex fonts\n",
    "plt.rcParams.update({\n",
    "    \"text.usetex\": True,\n",
    "    \"font.family\": \"Helvetica\",\n",
    "    \"font.size\": 14\n",
    "})\n",
    "\n",
    "uu = res.x\n",
    "print(f'u_ff = {split_u(uu)[0]},\\nK = {split_u(uu)[1]}')"
   ]
  },
  {
   "cell_type": "code",
   "execution_count": 14,
   "metadata": {},
   "outputs": [
    {
     "name": "stdout",
     "output_type": "stream",
     "text": [
      "Constraints not satisfied, worst is -0.01113603379850496!\n",
      "[ 0.00021584  0.12760869  0.00159628  0.12487105  0.00283983  0.11476854\n",
      "  0.00357826  0.09822981  0.00348975  0.07126808  0.00205315  0.04024372\n",
      "  0.07749786 -0.01113603  0.07194106 -0.0068011   0.06660101 -0.00040189\n",
      "  0.06158091  0.01320931  0.05724138  0.03714665  0.05409871  0.06473359]\n"
     ]
    },
    {
     "data": {
      "application/vnd.jupyter.widget-view+json": {
       "model_id": "b7aca991c0b54439bc2fd3979de8ed14",
       "version_major": 2,
       "version_minor": 0
      },
      "image/png": "[encoded data removed]",
      "text/html": [
       "\n",
       "            <div style=\"display: inline-block;\">\n",
       "                <div class=\"jupyter-widgets widget-label\" style=\"text-align: center;\">\n",
       "                    Figure\n",
       "                </div>\n",
       "                <img src='data:image/png;base64,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' width=800.0/>\n",
       "            </div>\n",
       "        "
      ],
      "text/plain": [
       "Canvas(toolbar=Toolbar(toolitems=[('Home', 'Reset original view', 'home', 'home'), ('Back', 'Back to previous …"
      ]
     },
     "metadata": {},
     "output_type": "display_data"
    }
   ],
   "source": [
    "# Trajectory vs time\n",
    "\n",
    "unrolledout = rollout_ol_sys_undisturbed(uu)\n",
    "clrolledout = rollout_cl_embsys(uu)\n",
    "\n",
    "if jnp.all(con_ineq(uu) >= -1e-3) :\n",
    "    print(f'Constraints satisfied to {jnp.min(con_ineq(uu))}!')\n",
    "else :\n",
    "    print(f'Constraints not satisfied, worst is {jnp.min(con_ineq(uu))}!')\n",
    "    print(con_ineq(uu))\n",
    "\n",
    "fig1, axs = plt.subplots(1,2,dpi=100,figsize=[8,4])\n",
    "fig1.subplots_adjust(top=0.95, bottom=0.15, left=0.075, right=0.975)\n",
    "\n",
    "axs[0].set_xlabel('$t$'); axs[1].set_xlabel('$t$')\n",
    "axs[0].set_ylabel('$\\\\theta$', rotation=0, labelpad=5)\n",
    "axs[1].set_ylabel('$\\\\dot{\\\\theta}$', rotation=0, labelpad=5)\n",
    "axs[0].plot(tt, unrolledout[:,0], color='k')\n",
    "axs[1].plot(tt, unrolledout[:,1], color='k')\n",
    "plot_interval_t(axs[0], tt, xf[0]*jnp.ones(N), color='k')\n",
    "plot_interval_t(axs[1], tt, xf[1]*jnp.ones(N), color='k')\n",
    "plot_interval_t(axs[0], tt, irx.interval(clrolledout[:,0], clrolledout[:,2]), color='tab:blue')\n",
    "plot_interval_t(axs[1], tt, irx.interval(clrolledout[:,1], clrolledout[:,3]), color='tab:blue')\n",
    "fig1.savefig('figures/pendulum.pdf')\n",
    "\n",
    "plt.show()"
   ]
  },
  {
   "cell_type": "markdown",
   "metadata": {},
   "source": [
    "If the figure did not load, please see [pendulum.pdf](./figures/pendulum.pdf)."
   ]
  },
  {
   "cell_type": "code",
   "execution_count": 15,
   "metadata": {},
   "outputs": [
    {
     "data": {
      "text/html": [
       "<video controls  >\n",
       " <source src=\"data:video/mp4;base64,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\" type=\"video/mp4\">\n",
       " Your browser does not support the video tag.\n",
       " </video>"
      ],
      "text/plain": [
       "<IPython.core.display.Video object>"
      ]
     },
     "execution_count": 15,
     "metadata": {},
     "output_type": "execute_result"
    }
   ],
   "source": [
    "# Animation of pendulum\n",
    "\n",
    "th2deg = lambda th : (th * 180) / jnp.pi - 90\n",
    "anifig, anim = plt.subplots(1,1,dpi=100,figsize=[4,4])\n",
    "anifig.subplots_adjust()\n",
    "wedge = anim.add_patch(Wedge((0,0),sys.l,th2deg(clrolledout[0,0]),th2deg(clrolledout[0,2]), lw=2, ec='k'))\n",
    "anim.add_patch(Wedge((0,0), sys.l, th2deg(xfl[0]), th2deg(xfu[0]), color='k', alpha=0.25))\n",
    "anim.set_xlim(-sys.l*1.2, sys.l*1.2)\n",
    "anim.set_ylim(-sys.l*1.2, sys.l*1.2)\n",
    "def animate(t) :\n",
    "    wedge.set( theta1 = th2deg(clrolledout[t,0]), theta2 = th2deg(clrolledout[t,2]) )\n",
    "    anifig.suptitle(f'$t = {t*dt:.2f}$')\n",
    "    anifig.savefig(f'figures/frames/pendulum_{t:05d}.pdf')\n",
    "\n",
    "ani = animation.FuncAnimation(anifig, animate, frames=N, repeat=True, interval=dt*1000)\n",
    "\n",
    "FFwriter = animation.FFMpegWriter(fps=(1/dt))\n",
    "ani.save('figures/pendulum.mp4', writer=FFwriter)\n",
    "\n",
    "plt.close()\n",
    "\n",
    "from IPython.display import Video\n",
    "Video('figures/pendulum.mp4', embed=True)"
   ]
  },
  {
   "cell_type": "markdown",
   "metadata": {},
   "source": [
    "If the video did not render, please see [pendulum.mp4](./figures/pendulum.mp4)."
   ]
  }
 ],
 "metadata": {
  "kernelspec": {
   "display_name": "immrax",
   "language": "python",
   "name": "python3"
  },
  "language_info": {
   "codemirror_mode": {
    "name": "ipython",
    "version": 3
   },
   "file_extension": ".py",
   "mimetype": "text/x-python",
   "name": "python",
   "nbconvert_exporter": "python",
   "pygments_lexer": "ipython3",
   "version": "3.12.0"
  }
 },
 "nbformat": 4,
 "nbformat_minor": 2
}
