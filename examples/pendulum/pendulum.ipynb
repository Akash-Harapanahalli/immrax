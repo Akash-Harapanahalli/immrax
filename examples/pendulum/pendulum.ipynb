{
 "cells": [
  {
   "cell_type": "markdown",
   "metadata": {},
   "source": [
    "# Pendulum Robust Optimal Control Using `immrax`\n",
    "\n",
    "In this example, we use Automatic Differentiation to solve a robust optimal control problem in the embedding space of a nonlinear pendulum. In particular, we build an objective function with robust constraints, automatically create and compile functions evaluating their gradients, Jacobians, and Hessians, and finally setup an interior point minimization problem to find a locally optimal solution using IPOPT.\n",
    "\n",
    "This example is from the paper \"$\\texttt{immrax}$: A Parallalizable and Differentiable Toolbox for Interval Analysis and Mixed Monotone Reachability in JAX\"."
   ]
  },
  {
   "cell_type": "markdown",
   "metadata": {},
   "source": [
    "## Preliminaries"
   ]
  },
  {
   "cell_type": "code",
   "execution_count": 1,
   "metadata": {},
   "outputs": [],
   "source": [
    "import jax\n",
    "import jax.numpy as jnp\n",
    "import immrax as irx\n",
    "from typing import Tuple"
   ]
  },
  {
   "cell_type": "markdown",
   "metadata": {},
   "source": [
    "We will be using IPOPT to solve a minimization problem. Since IPOPT is CPU-based and 64-bit, we configure JAX with these options as well. We can use the GPU here instead of the CPU for some operations, but empirically, the time to transfer data between the CPU and GPU is much larger than the amount of time the problem takes on the CPU only."
   ]
  },
  {
   "cell_type": "code",
   "execution_count": 2,
   "metadata": {},
   "outputs": [],
   "source": [
    "# Some configurations\n",
    "jax.config.update(\"jax_enable_x64\", True)\n",
    "\n",
    "# We wrap the jax.jit function to set the backend to cpu by default for convenience.\n",
    "device = 'cpu'\n",
    "def jit (*args, **kwargs):\n",
    "    kwargs.setdefault('backend', device)\n",
    "    return jax.jit(*args, **kwargs)"
   ]
  },
  {
   "cell_type": "markdown",
   "metadata": {},
   "source": [
    "### The pendulum's dynamics\n",
    "Consider the dynamics of a forced, damped pendulum\n",
    "$$\n",
    "ml^2\\ddot{\\theta} + b\\dot{\\theta} + mgl\\sin(\\theta) = \\tau\n",
    "$$\n",
    "with with $m=0.15\\mathrm{kg}$, $l=0.5\\mathrm{m}$, $b=0.1\\mathrm{N\\cdot m \\cdot s}$, and $g=9.81\\mathrm{m}/\\mathrm{s}^2$.\n",
    "The torque $\\tau := (1 + w)u$, where $u\\in\\mathbb{R}$ is the desired torque input and $w\\in[\\underline{w},\\overline{w}] := [-0.02,0.02]$ is a bounded multiplicative disturbance on the control input. We implement this as a $2$-state system with $x := (\\theta, \\dot{\\theta})$,\n",
    "$$\n",
    "\\dot{x} = \n",
    "     f(x,u,w) = \n",
    "     \\left[\\begin{matrix} x_2 \\\\ \\frac{(1 + w)u - bx_2}{ml^2} - \\frac{g}{l}\\sin x_1 \\end{matrix}\\right]\n",
    "$$\n",
    "This is implemented in `immrax` as a `System`, with the specified dynamics written using `jax.numpy`."
   ]
  },
  {
   "cell_type": "code",
   "execution_count": 3,
   "metadata": {},
   "outputs": [],
   "source": [
    "g = 9.81\n",
    "\n",
    "class Pendulum (irx.System) :\n",
    "    m:float\n",
    "    l:float\n",
    "    b:float\n",
    "\n",
    "    def __init__(self, m:float = 0.15, l:float = 0.5, b:float = 0.1) -> None:\n",
    "        super().__init__()\n",
    "        # Tells immrax that the system is continuous\n",
    "        self.evolution = 'continuous'\n",
    "        # Tells immrax the number of states\n",
    "        self.xlen = 2\n",
    "        self.m = m\n",
    "        self.l = l\n",
    "        self.b = b\n",
    "\n",
    "    def f(self, t: float, x: jax.Array, u: jax.Array, w: jax.Array) -> jax.Array:\n",
    "        return jnp.array([\n",
    "            x[1],\n",
    "            (((1 + w[0])*u[0] - self.b*x[1]) / \n",
    "                ((self.m) * self.l**2)) - (g/self.l)*jnp.sin(x[0])\n",
    "        ])\n",
    "    \n",
    "    def get_xy (self, x:jax.Array) :\n",
    "        return self.l*jnp.sin(x[0]), -self.l*jnp.cos(x[0])\n",
    "\n",
    "sys = Pendulum()"
   ]
  },
  {
   "cell_type": "markdown",
   "metadata": {},
   "source": [
    "### Problem Statement\n",
    "We seek to find a finite-time closed-loop optimal control policy $\\pi:[0,T]\\times\\mathbb{R}^n\\to\\mathbb{R}$ to swing up the pendulum to an *a priori* safe region at the top.\n",
    "We consider linear feedback control policies of the form $\\pi(t,x) := K(x(t) - x_{\\mathrm{nom}}(t)) + u_{\\mathrm{ff}}(t)$, where $K$ is a time invariant linear closed-loop stabilizing term to help counter the disturbance, $u_{\\mathrm{ff}}:[0,T]\\to\\mathbb{R}$ is a feedforward control policy, and $x_\\mathrm{nom}:[0,T]\\to\\mathbb{R}^n$ is the nominal trajectory of the deterministic system under the feedforward control law $u_\\mathrm{ff}$ with known disturbance mapping $w_{\\mathrm{nom}}:[0,T]\\to\\mathbb{R}$.\n",
    "The closed-loop system is thus\n",
    "$$ \n",
    "    \\dot{x} = f(x,\\pi(t,x),w) = f^\\pi (t, x, w).\n",
    "$$"
   ]
  },
  {
   "cell_type": "markdown",
   "metadata": {},
   "source": [
    "## Embedding System for the Pendulum\n",
    "Consider the following function\n",
    "$$ \n",
    "\\begin{aligned}\n",
    "    [\\textsf{F}^\\pi(t,\\underline{x},\\overline{x},\\underline{w},\\overline{w})] := &\\, ([\\textsf{M}_x] + [\\textsf{M}_u]K)([\\underline{x},\\overline{x}] - x_\\mathrm{nom}(t)) \\\\\n",
    "    % &+ [\\textsf{M}_u^\\mathcal{O}]([\\ulu,\\olu] - \\mathring{u}) \n",
    "    & + [\\textsf{M}_w]([\\underline{w},\\overline{w}] - w_\\mathrm{nom}(t)) \\\\\n",
    "    & + f(x_\\mathrm{nom}(t),u_{\\mathrm{ff}}(t),w_\\mathrm{nom}(t)),\n",
    "\\end{aligned}\n",
    "$$\n",
    "with $[\\textsf{M}_x\\ \\textsf{M}_u\\ \\textsf{M}_w] := [\\textsf{M}_\\mathcal{O}^{\\xi_\\mathrm{nom}(t)}(\\underline{x},\\overline{x},u_\\mathrm{ff}(t),u_\\mathrm{ff}(t),\\underline{w},\\overline{w})]$, where $\\textsf{M}$ is defined as Proposition~\\ref{prop:MixedJacobian-Based} afor the map $\\hat{f} : \\mathbb{R}^{n+p+q} \\to \\mathbb{R}^n$ such that $\\hat{f}((x,u,w)) := f(x,u,w)$, for some $(n+p+q)$-ordering $\\mathcal{O}$, and $\\xi_\\mathrm{nom}(t) := (x_\\mathrm{nom}(t),u_\\mathrm{ff}(t),w_\\mathrm{nom}(t))$.\n",
    "This is a valid inclusion function for the closed-loop dynamics $f^\\pi$~\\eqref{eq:pendulumcldyn} (proof deferred to Appendix~\\ref{apax:sec:proofclpend}, which uses Proposition~\\ref{prop:MixedJacobian-Based} Part~\\eqref{prop:MixedJacobian-Based:p1}).\n",
    "\n",
    "We use the `mjacM` transform to implement the inclusion function in in `immrax`. We expect the nominal values to be given as an input to the inclusion function, which will be calculated externally."
   ]
  },
  {
   "cell_type": "code",
   "execution_count": 4,
   "metadata": {},
   "outputs": [],
   "source": [
    "sys_mjacM = irx.mjacM(sys.f)\n",
    "\n",
    "@jit\n",
    "def F (t:irx.Interval, x:irx.Interval, w:irx.Interval, K:jnp.ndarray, \n",
    "       nominal:Tuple[jnp.ndarray, jnp.ndarray, jnp.ndarray, jnp.ndarray]) :\n",
    "    tc, xc, uc, wc = nominal\n",
    "    Mt, Mx, Mu, Mw = sys_mjacM(t, x, irx.interval(uc), w, centers=(nominal,))[0]\n",
    "    return (\n",
    "        (Mx + Mu @ irx.interval(K)) @ (x - xc)\n",
    "        + Mw @ (w - wc) + sys.f(tc, xc, uc, wc)\n",
    "    )"
   ]
  },
  {
   "cell_type": "markdown",
   "metadata": {},
   "source": [
    "Following the treatment from the paper, now that we have an inclusion function for the dynamics of the system, we will embed the closed-loop pendulum dynamics into a new $2n$-dimensional embedding system that provides efficient bounds for its reachable set.\n",
    "$$\n",
    "\\dot{\\underline{x}}_i = \\underline{\\textsf{E}}_i(t,\\underline{x},\\overline{x},\\underline{w},\\overline{w}) := \\underline{\\textsf{F}}_i^\\pi(t,\\underline{x},\\overline{x}_{i:\\underline{x}},\\underline{w},\\overline{x}), \\\\\n",
    "\\dot{\\overline{x}}_i = \\overline{\\textsf{E}}_i(t,\\underline{x},\\overline{x},\\underline{w},\\overline{w}) := \\overline{\\textsf{F}}_i^\\pi(t,\\underline{x}_{i:\\overline{x}},\\overline{x},\\underline{w},\\overline{x}),\n",
    "$$\n",
    "This embedding is automatically performed in `immrax` by the `ifemb` transform, which takes a `System` and an inclusion function for its dynamics, and returns the corresponding `EmbeddingSystem`."
   ]
  },
  {
   "cell_type": "code",
   "execution_count": 5,
   "metadata": {},
   "outputs": [],
   "source": [
    "embsys = irx.ifemb(sys, F)"
   ]
  },
  {
   "cell_type": "markdown",
   "metadata": {},
   "source": [
    "## Using Autodiff to Setup an IPOPT Minimization Problem\n",
    "\n",
    "### The problem itself\n",
    "Now that we have the embedding system `embsys`, we will try to solve an optimization problem of the following form:\n",
    "$$\n",
    "\\begin{aligned}\n",
    "    \\min_{u_\\mathrm{ff}, K} &\\sum_{i=1}^N |u_{\\mathrm{ff}}(t_i)|^2 + \\|K\\|_F^2 + \\sum_{i=1}^N \\|\\overline{x}(t_i) - \\underline{x}(t_i)\\|_2^2 \\\\\n",
    "    \\text{s.t.}& \\ \\  \\underline{x}_f \\leq \\underline{x}(t_j),\\ \\ \\overline{x}(t_j) \\leq \\overline{x}_f, \\ \\ j=N_e,\\dots,N, \\ \\\\ \n",
    "    & \\underline{x}(0) = \\overline{x}(0) = (0, 0), \\\\\n",
    "    & \\left[\\begin{matrix} \\underline{x}(t_{i+1}) \\\\ \\overline{x}(t_{i+1}) \\end{matrix}\\right] = \\left[\\begin{matrix} \\underline{x}(t_{i}) \\\\ \\overline{x}(t_{i}) \\end{matrix}\\right] + \\Delta t \\textsf{E}(t_i,\\underline{x}(t_i),\\overline{x}(t_i),\\underline{w},\\overline{w}), \n",
    "\\end{aligned}\n",
    "$$\n",
    "where the embedding dynamics $\\textsf{E}$ are discretized using Euler integration with step size $\\Delta t$.\n",
    "\n",
    "The first and second terms of the objective are typical quadratic conditioning of the decision variables. The third term is a regularization factor intended to help curb the expansion of the gap between the upper and lower bound, which emperically helps the optimization problem converge to a feasible solution.\n",
    "Finally, in the inequality constraints, we require that the pendulum reach a target set $[\\underline{x}_f,\\overline{x}_f]$ and stay within these constraints for $t\\in[t_{N_e},t_N]$.\n",
    "\n",
    "#"
   ]
  },
  {
   "cell_type": "markdown",
   "metadata": {},
   "source": [
    "### Towards an IPOPT implementation\n",
    "\n",
    "In the following code, we define variables setting up the minimization problem with the following definitions:\n",
    "$$\n",
    "t_0 = 0,\\quad t_{N_e} = 3,\\quad t_N = 3.25,\\quad \\Delta t = 0.05, \\\\\n",
    "[\\underline{x}_f,\\overline{x}_f] = \\left[\\begin{bmatrix} \\pi - \\frac{10\\pi}{360} \\\\ -0.1 \\end{bmatrix} , \\begin{bmatrix} \\pi + \\frac{10\\pi}{360} \\\\ +0.1 \\end{bmatrix}\\right]\n",
    "$$"
   ]
  },
  {
   "cell_type": "code",
   "execution_count": 6,
   "metadata": {},
   "outputs": [],
   "source": [
    "# Problem Parameters\n",
    "\n",
    "# Time horizon and discretization\n",
    "t0, te, tf, dt = 0, 3., 3.25, 0.05\n",
    "Ne = round((te - t0)/dt) \n",
    "N = round((tf - t0)/dt) + 1\n",
    "tt = jnp.arange(t0, tf + dt, dt)\n",
    "\n",
    "# Initial condition (no initial perturbation)\n",
    "x0 = irx.interval(jnp.array([0.,0.]))\n",
    "x0ut = irx.i2ut(x0); x0cent, x0pert = irx.i2centpert(x0)\n",
    "\n",
    "# Final set constraint\n",
    "xf = irx.icentpert(jnp.array([jnp.pi,0.]), jnp.array([10.*(jnp.pi/360),0.1]))\n",
    "xfl, xfu = irx.i2lu(xf); xfut = irx.i2ut(xf); xfcent, xfpert = irx.i2centpert(xf)\n",
    "\n",
    "# Disturbance bounds [-0.02, 0.02]\n",
    "w = irx.icentpert(0., 0.02)"
   ]
  },
  {
   "cell_type": "markdown",
   "metadata": {},
   "source": [
    "We put all decision variables into one vector."
   ]
  },
  {
   "cell_type": "code",
   "execution_count": 7,
   "metadata": {},
   "outputs": [],
   "source": [
    "# Initial guess for control u_ff (zeros) and linear matrix K ([-1 -1])\n",
    "K = jnp.array([[-1.,-1.]])\n",
    "u0 = jnp.concatenate((jnp.zeros(N), K.reshape(-1)))\n",
    "\n",
    "# Function to split decision vector into u_ff and K\n",
    "def split_u (u:jax.Array) -> Tuple[jax.Array, jax.Array]:\n",
    "    return u[:-2], u[-2:].reshape(1,2)"
   ]
  },
  {
   "cell_type": "markdown",
   "metadata": {},
   "source": [
    "Next, we implement a couple of helper functions. They use `jax.lax.scan` to perform a simple and efficient Euler integration of the dynamics to the specified time horizon. We could use the `System.compute_trajectory` function instead, which uses `diffrax` to integrate the dynamics with many different options of integrators."
   ]
  },
  {
   "cell_type": "code",
   "execution_count": 8,
   "metadata": {},
   "outputs": [],
   "source": [
    "# Function to rollout the undisturbed pendulum dynamics using Euler integration\n",
    "@jit\n",
    "def rollout_ol_sys_undisturbed (u:jax.Array) -> jax.Array :\n",
    "    u, K = split_u(u)\n",
    "    def f_euler (xt, ut) :\n",
    "        xtp1 = xt + dt*sys.f(0., xt, jnp.array([ut]), jnp.array([0.]))\n",
    "        return (xtp1, xtp1)\n",
    "    _, x = jax.lax.scan(f_euler, x0cent, u)\n",
    "    return x\n",
    "\n",
    "# Function to rollout the closed-loop embedding system dynamics using Euler integration\n",
    "@jit\n",
    "def rollout_cl_embsys (u:jax.Array) -> jax.Array :\n",
    "    u, K = split_u(u)\n",
    "    def f_euler (xt, ut) :\n",
    "        xtut, xnomt = xt\n",
    "        xtutp1 = xtut + dt*embsys.E(irx.interval([0.]), xtut, w, K, \n",
    "                        (jnp.array([0.]), xnomt, jnp.array([ut]), jnp.array([0.])))\n",
    "        xnomtp1 = xnomt + dt*sys.f(0., xnomt, jnp.array([ut]), jnp.array([0.]))\n",
    "        return ((xtutp1,xnomtp1), xtutp1)\n",
    "    _, x = jax.lax.scan(f_euler, (x0ut, x0cent), u)\n",
    "    return x"
   ]
  },
  {
   "cell_type": "markdown",
   "metadata": {},
   "source": [
    "Using the `rollout_cl_embsys` function, we implement the desired objective function above."
   ]
  },
  {
   "cell_type": "code",
   "execution_count": 9,
   "metadata": {},
   "outputs": [],
   "source": [
    "# Objective Function\n",
    "@jit\n",
    "def obj (u:jax.Array) -> jax.Array :\n",
    "    x = rollout_cl_embsys(u)\n",
    "    return jnp.sum(u**2) + jnp.sum((x[:,2:] - x[:,:2])**2)"
   ]
  },
  {
   "cell_type": "markdown",
   "metadata": {},
   "source": [
    "Next, we implement the inequality terminal set constraints as a function $g(x) \\geq 0$."
   ]
  },
  {
   "cell_type": "code",
   "execution_count": 10,
   "metadata": {},
   "outputs": [],
   "source": [
    "# Inequality constraints\n",
    "@jit\n",
    "def con_ineq (u) :\n",
    "    x = rollout_cl_embsys(u)\n",
    "    return jnp.concatenate(((x[Ne:,:2] - xfl).reshape(-1), \n",
    "                            (xfu - x[Ne:,2:]).reshape(-1)))"
   ]
  },
  {
   "cell_type": "markdown",
   "metadata": {},
   "source": [
    "### The Automatic Differentiation Step\n",
    "\n",
    "Next, we use JAX's autodiff transforms to automatically create functions to compute the objective's gradient and Hessian, as well as the Jacobian and Hessian vector product of the constraints with respect to the Lagrange multipliers. We precompile (JIT compile) these functions to separate their compilation from the rest of the stack."
   ]
  },
  {
   "cell_type": "code",
   "execution_count": 11,
   "metadata": {},
   "outputs": [
    {
     "name": "stdout",
     "output_type": "stream",
     "text": [
      "JIT Compiling Autodiff Functions...\n",
      "Finished JIT Compiling Autodiff Functions in 149.96655249595642 seconds\n"
     ]
    }
   ],
   "source": [
    "obj_grad = jit(jax.grad(obj))  # Objective Gradient\n",
    "obj_hess = jit(jax.jacfwd(jax.jacrev(obj)))  # Objective Hessian\n",
    "con_ineq_jac = jit(jax.jacfwd(con_ineq))  # Constraint Jacobian\n",
    "con_ineq_hess = jit(jax.jacfwd(jax.jacrev(con_ineq))) # Constraint Hessian\n",
    "\n",
    "# Constraint Hessian-Vector Product\n",
    "@jit\n",
    "def con_ineq_hessvp (u, v) :\n",
    "    def hessvp (u) :\n",
    "        _, hvp = jax.vjp(con_ineq, u)\n",
    "        return hvp(v)[0] # One tangent, one output. u^T dc_v\n",
    "    return jax.jacrev(hessvp)(u) \n",
    "\n",
    "print('JIT Compiling Autodiff Functions...')\n",
    "from time import time\n",
    "time0 = time()\n",
    "obj_grad(u0)\n",
    "obj_hess(u0)\n",
    "con_ineq_jac(u0)\n",
    "con_ineq_hessvp(u0, jnp.ones(4*(N - Ne)))\n",
    "timef = time()\n",
    "print(f'Finished JIT Compiling Autodiff Functions in {timef - time0} seconds')"
   ]
  },
  {
   "cell_type": "markdown",
   "metadata": {},
   "source": [
    "## Minimization in IPOPT\n",
    "\n",
    "Finally, we solve the optimization problem from above using a call to IPOPT."
   ]
  },
  {
   "cell_type": "code",
   "execution_count": 12,
   "metadata": {},
   "outputs": [
    {
     "name": "stdout",
     "output_type": "stream",
     "text": [
      "\n",
      "******************************************************************************\n",
      "This program contains Ipopt, a library for large-scale nonlinear optimization.\n",
      " Ipopt is released as open source code under the Eclipse Public License (EPL).\n",
      "         For more information visit https://github.com/coin-or/Ipopt\n",
      "******************************************************************************\n",
      "\n",
      "Total number of variables............................:       68\n",
      "                     variables with only lower bounds:        0\n",
      "                variables with lower and upper bounds:        0\n",
      "                     variables with only upper bounds:        0\n",
      "Total number of equality constraints.................:        0\n",
      "Total number of inequality constraints...............:       24\n",
      "        inequality constraints with only lower bounds:       24\n",
      "   inequality constraints with lower and upper bounds:        0\n",
      "        inequality constraints with only upper bounds:        0\n",
      "\n",
      "\n",
      "Number of Iterations....: 100\n",
      "\n",
      "                                   (scaled)                 (unscaled)\n",
      "Objective...............:   1.0647937484146032e+01    1.0647937484146032e+01\n",
      "Dual infeasibility......:   4.2986259200329604e+00    4.2986259200329604e+00\n",
      "Constraint violation....:   1.3959558029932347e-04    1.3959558029932347e-04\n",
      "Variable bound violation:   0.0000000000000000e+00    0.0000000000000000e+00\n",
      "Complementarity.........:   5.2871361388319297e-04    5.2871361388319297e-04\n",
      "Overall NLP error.......:   4.2986259200329604e+00    4.2986259200329604e+00\n",
      "\n",
      "\n",
      "Number of objective function evaluations             = 190\n",
      "Number of objective gradient evaluations             = 101\n",
      "Number of equality constraint evaluations            = 0\n",
      "Number of inequality constraint evaluations          = 194\n",
      "Number of equality constraint Jacobian evaluations   = 0\n",
      "Number of inequality constraint Jacobian evaluations = 102\n",
      "Number of Lagrangian Hessian evaluations             = 100\n",
      "Total seconds in IPOPT                               = 2.610\n",
      "\n",
      "EXIT: Maximum Number of Iterations Exceeded.\n"
     ]
    }
   ],
   "source": [
    "from cyipopt import minimize_ipopt\n",
    "\n",
    "# Constraints\n",
    "cons = [ {'type': 'ineq', 'fun': con_ineq, 'jac': con_ineq_jac, 'hess': con_ineq_hessvp}, ]\n",
    "bnds = [(-100.,100.) for _ in range(u0.size)]\n",
    "\n",
    "ipopt_opts = {\n",
    "    b'disp': 4, \n",
    "    b'linear_solver': 'ma57', \n",
    "    b'hsllib': 'libcoinhsl.so', \n",
    "    b'tol': 1e-3,\n",
    "    b'max_iter': 100,\n",
    "}\n",
    "\n",
    "# Solve the optimization problem\n",
    "res = minimize_ipopt(obj, jac=obj_grad, hess=obj_hess, x0=u0,\n",
    "                     constraints=cons, options=ipopt_opts)"
   ]
  },
  {
   "cell_type": "markdown",
   "metadata": {},
   "source": [
    "## Visualizing the Results"
   ]
  },
  {
   "cell_type": "code",
   "execution_count": 13,
   "metadata": {},
   "outputs": [
    {
     "name": "stdout",
     "output_type": "stream",
     "text": [
      "u_ff = [-0.06233343 -0.0666771  -0.06254942 -0.05261426 -0.0353426  -0.0111303\n",
      " -0.00681361  0.02923769  0.06121546  0.05716339  0.09016525  0.12430726\n",
      "  0.15690694  0.18333536  0.20098078  0.20719559  0.20074864  0.18099523\n",
      "  0.14794037  0.10225266  0.04525568 -0.00929336 -0.08109409 -0.15420389\n",
      " -0.20200888 -0.27202901 -0.33695388 -0.38967078 -0.4254703  -0.44053733\n",
      " -0.43283384 -0.40175101 -0.34796937 -0.27305095 -0.17894583 -0.06766852\n",
      "  0.05264748  0.19070078  0.33686261  0.47115414  0.61887755  0.75252526\n",
      "  0.8604839   0.93080056  0.95746499  0.94144209  0.89036706  0.81600452\n",
      "  0.73015123  0.6416791   0.55738905  0.47822694  0.40607225  0.33948423\n",
      "  0.27704514  0.21643875  0.15489317  0.08883818  0.01470794 -0.06205491\n",
      " -0.173182    0.03346078  0.03335895  0.02438117  0.00528881 -0.0138604 ],\n",
      "K = [[ 0.04053638 -0.74380821]]\n"
     ]
    }
   ],
   "source": [
    "# Plotting imports\n",
    "import matplotlib.pyplot as plt\n",
    "import matplotlib.animation as animation\n",
    "from matplotlib.patches import Wedge\n",
    "from immrax.utils import plot_interval_t\n",
    "\n",
    "# Use latex fonts\n",
    "plt.rcParams.update({\n",
    "    \"text.usetex\": True,\n",
    "    \"font.family\": \"Helvetica\",\n",
    "    \"font.size\": 14\n",
    "})\n",
    "\n",
    "uu = res.x\n",
    "print(f'u_ff = {split_u(uu)[0]},\\nK = {split_u(uu)[1]}')"
   ]
  },
  {
   "cell_type": "code",
   "execution_count": 17,
   "metadata": {},
   "outputs": [
    {
     "name": "stdout",
     "output_type": "stream",
     "text": [
      "Constraints satisfied to -0.00013960558029932346!\n"
     ]
    },
    {
     "data": {
      "image/png": "[encoded data removed]",
      "text/plain": [
       "<Figure size 800x400 with 2 Axes>"
      ]
     },
     "metadata": {},
     "output_type": "display_data"
    }
   ],
   "source": [
    "# Trajectory vs time\n",
    "\n",
    "unrolledout = rollout_ol_sys_undisturbed(uu)\n",
    "clrolledout = rollout_cl_embsys(uu)\n",
    "\n",
    "if jnp.all(con_ineq(uu) >= -1e-3) :\n",
    "    print(f'Constraints satisfied to {jnp.min(con_ineq(uu))}!')\n",
    "else :\n",
    "    print(f'Constraints not satisfied, worst is {jnp.min(con_ineq(uu))}!')\n",
    "    print(con_ineq(uu))\n",
    "\n",
    "fig1, axs = plt.subplots(1,2,dpi=100,figsize=[8,4])\n",
    "fig1.subplots_adjust(top=0.95, bottom=0.15, left=0.075, right=0.975)\n",
    "\n",
    "axs[0].set_xlabel('$t$'); axs[1].set_xlabel('$t$')\n",
    "axs[0].set_ylabel('$\\\\theta$', rotation=0, labelpad=5)\n",
    "axs[1].set_ylabel('$\\\\dot{\\\\theta}$', rotation=0, labelpad=5)\n",
    "axs[0].plot(tt, unrolledout[:,0], color='k')\n",
    "axs[1].plot(tt, unrolledout[:,1], color='k')\n",
    "plot_interval_t(axs[0], tt, xf[0]*jnp.ones(N), color='k')\n",
    "plot_interval_t(axs[1], tt, xf[1]*jnp.ones(N), color='k')\n",
    "plot_interval_t(axs[0], tt, irx.interval(clrolledout[:,0], clrolledout[:,2]), color='tab:blue')\n",
    "plot_interval_t(axs[1], tt, irx.interval(clrolledout[:,1], clrolledout[:,3]), color='tab:blue')\n",
    "fig1.savefig('figures/pendulum.pdf')\n",
    "\n",
    "plt.show()"
   ]
  },
  {
   "cell_type": "markdown",
   "metadata": {},
   "source": [
    "If the figure did not load, please see [pendulum.pdf](./figures/pendulum.pdf)."
   ]
  },
  {
   "cell_type": "code",
   "execution_count": 16,
   "metadata": {},
   "outputs": [
    {
     "data": {
      "text/html": [
       "<video src=\"figures/pendulum.mp4\" controls  >\n",
       "      Your browser does not support the <code>video</code> element.\n",
       "    </video>"
      ],
      "text/plain": [
       "<IPython.core.display.Video object>"
      ]
     },
     "execution_count": 16,
     "metadata": {},
     "output_type": "execute_result"
    }
   ],
   "source": [
    "# Animation of pendulum\n",
    "\n",
    "to_plot = [clrolledout]\n",
    "th2deg = lambda th : (th * 180) / jnp.pi - 90\n",
    "anifig, anim = plt.subplots(1,len(to_plot),dpi=100,figsize=[4,4])\n",
    "anifig.subplots_adjust()\n",
    "wedge = anim.add_patch(Wedge((0,0),sys.l,th2deg(clrolledout[0,0]),th2deg(clrolledout[0,2]), lw=2, ec='k'))\n",
    "anim.add_patch(Wedge((0,0), sys.l, th2deg(xfl[0]), th2deg(xfu[0]), color='k', alpha=0.25))\n",
    "anim.set_xlim(-sys.l*1.2, sys.l*1.2)\n",
    "anim.set_ylim(-sys.l*1.2, sys.l*1.2)\n",
    "def animate(t) :\n",
    "    wedge.set( theta1 = th2deg(clrolledout[t,0]), theta2 = th2deg(clrolledout[t,2]) )\n",
    "    anifig.suptitle(f'$t = {t*dt:.2f}$')\n",
    "    anifig.savefig(f'figures/frames/pendulum_{t:05d}.pdf')\n",
    "\n",
    "ani = animation.FuncAnimation(anifig, animate, frames=N, repeat=True, interval=dt*1000)\n",
    "\n",
    "FFwriter = animation.FFMpegWriter(fps=(1/dt))\n",
    "ani.save('figures/pendulum.mp4', writer=FFwriter)\n",
    "\n",
    "plt.close()\n",
    "\n",
    "from IPython.display import Video\n",
    "Video('figures/pendulum.mp4')"
   ]
  },
  {
   "cell_type": "markdown",
   "metadata": {},
   "source": [
    "If the video did not render, please see [pendulum.mp4](./figures/pendulum.mp4)."
   ]
  }
 ],
 "metadata": {
  "kernelspec": {
   "display_name": "immrax",
   "language": "python",
   "name": "python3"
  },
  "language_info": {
   "codemirror_mode": {
    "name": "ipython",
    "version": 3
   },
   "file_extension": ".py",
   "mimetype": "text/x-python",
   "name": "python",
   "nbconvert_exporter": "python",
   "pygments_lexer": "ipython3",
   "version": "3.12.0"
  }
 },
 "nbformat": 4,
 "nbformat_minor": 2
}
