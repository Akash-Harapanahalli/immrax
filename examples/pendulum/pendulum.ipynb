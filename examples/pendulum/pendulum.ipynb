{
 "cells": [
  {
   "cell_type": "markdown",
   "metadata": {},
   "source": [
    "# Pendulum Robust Optimal Control Using `immrax`\n",
    "\n",
    "In this example, we use Automatic Differentiation to solve a robust optimal control problem in the embedding space of a nonlinear pendulum. In particular, we build an objective function with robust constraints, automatically create and compile functions evaluating their gradients, Jacobians, and Hessians, and finally setup an interior point minimization problem to find a locally optimal solution using IPOPT.\n",
    "\n",
    "This example is from the paper \"$\\texttt{immrax}$: A Parallalizable and Differentiable Toolbox for Interval Analysis and Mixed Monotone Reachability in JAX\"."
   ]
  },
  {
   "cell_type": "markdown",
   "metadata": {},
   "source": [
    "## Preliminaries"
   ]
  },
  {
   "cell_type": "code",
   "execution_count": 1,
   "metadata": {},
   "outputs": [],
   "source": [
    "import jax\n",
    "import jax.numpy as jnp\n",
    "import immrax as irx\n",
    "from typing import Tuple"
   ]
  },
  {
   "cell_type": "markdown",
   "metadata": {},
   "source": [
    "We will be using IPOPT to solve a minimization problem. Since IPOPT is CPU-based and 64-bit, we configure JAX with these options as well. We can use the GPU here instead of the CPU for some operations, but empirically, the time to transfer data between the CPU and GPU is much larger than the amount of time the problem takes on the CPU only."
   ]
  },
  {
   "cell_type": "code",
   "execution_count": 2,
   "metadata": {},
   "outputs": [],
   "source": [
    "# Some configurations\n",
    "jax.config.update(\"jax_enable_x64\", True)\n",
    "\n",
    "# We wrap the jax.jit function to set the backend to cpu by default for convenience.\n",
    "device = 'cpu'\n",
    "def jit (*args, **kwargs):\n",
    "    kwargs.setdefault('backend', device)\n",
    "    return jax.jit(*args, **kwargs)"
   ]
  },
  {
   "cell_type": "markdown",
   "metadata": {},
   "source": [
    "### The pendulum's dynamics\n",
    "Consider the dynamics of a forced, damped pendulum\n",
    "$$\n",
    "ml^2\\ddot{\\theta} + b\\dot{\\theta} + mgl\\sin(\\theta) = \\tau\n",
    "$$\n",
    "with with $m=0.15\\mathrm{kg}$, $l=0.5\\mathrm{m}$, $b=0.1\\mathrm{N\\cdot m \\cdot s}$, and $g=9.81\\mathrm{m}/\\mathrm{s}^2$.\n",
    "The torque $\\tau := (1 + w)u$, where $u\\in\\mathbb{R}$ is the desired torque input and $w\\in[\\underline{w},\\overline{w}] := [-0.02,0.02]$ is a bounded multiplicative disturbance on the control input. We implement this as a $2$-state system with $x := (\\theta, \\dot{\\theta})$,\n",
    "$$\n",
    "\\dot{x} = \n",
    "     f(x,u,w) = \n",
    "     \\left[\\begin{matrix} x_2 \\\\ \\frac{(1 + w)u - bx_2}{ml^2} - \\frac{g}{l}\\sin x_1 \\end{matrix}\\right]\n",
    "$$\n",
    "This is implemented in `immrax` as a `System`, with the specified dynamics written using `jax.numpy`."
   ]
  },
  {
   "cell_type": "code",
   "execution_count": 3,
   "metadata": {},
   "outputs": [],
   "source": [
    "g = 9.81\n",
    "\n",
    "class Pendulum (irx.System) :\n",
    "    m:float\n",
    "    l:float\n",
    "    b:float\n",
    "\n",
    "    def __init__(self, m:float = 0.15, l:float = 0.5, b:float = 0.1) -> None:\n",
    "        super().__init__()\n",
    "        # Tells immrax that the system is continuous\n",
    "        self.evolution = 'continuous'\n",
    "        # Tells immrax the number of states\n",
    "        self.xlen = 2\n",
    "        self.m = m\n",
    "        self.l = l\n",
    "        self.b = b\n",
    "\n",
    "    def f(self, t: float, x: jax.Array, u: jax.Array, w: jax.Array) -> jax.Array:\n",
    "        return jnp.array([\n",
    "            x[1],\n",
    "            (((1 + w[0])*u[0] - self.b*x[1]) / \n",
    "                ((self.m) * self.l**2)) - (g/self.l)*jnp.sin(x[0])\n",
    "        ])\n",
    "    \n",
    "    def get_xy (self, x:jax.Array) :\n",
    "        return self.l*jnp.sin(x[0]), -self.l*jnp.cos(x[0])\n",
    "\n",
    "sys = Pendulum()"
   ]
  },
  {
   "cell_type": "markdown",
   "metadata": {},
   "source": [
    "### Problem Statement\n",
    "We seek to find a finite-time closed-loop optimal control policy $\\pi:[0,T]\\times\\mathbb{R}^n\\to\\mathbb{R}$ to swing up the pendulum to an *a priori* safe region at the top.\n",
    "We consider linear feedback control policies of the form $\\pi(t,x) := K(x(t) - x_{\\mathrm{nom}}(t)) + u_{\\mathrm{ff}}(t)$, where $K$ is a time invariant linear closed-loop stabilizing term to help counter the disturbance, $u_{\\mathrm{ff}}:[0,T]\\to\\mathbb{R}$ is a feedforward control policy, and $x_\\mathrm{nom}:[0,T]\\to\\mathbb{R}^n$ is the nominal trajectory of the deterministic system under the feedforward control law $u_\\mathrm{ff}$ with known disturbance mapping $w_{\\mathrm{nom}}:[0,T]\\to\\mathbb{R}$.\n",
    "The closed-loop system is thus\n",
    "$$ \n",
    "    \\dot{x} = f(x,\\pi(t,x),w) = f^\\pi (t, x, w).\n",
    "$$"
   ]
  },
  {
   "cell_type": "markdown",
   "metadata": {},
   "source": [
    "## Embedding System for the Pendulum\n",
    "Consider the following function\n",
    "$$ \n",
    "\\begin{aligned}\n",
    "    [\\textsf{F}^\\pi(t,\\underline{x},\\overline{x},\\underline{w},\\overline{w})] := &\\, ([\\textsf{M}_x] + [\\textsf{M}_u]K)([\\underline{x},\\overline{x}] - x_\\mathrm{nom}(t)) \\\\\n",
    "    % &+ [\\textsf{M}_u^\\mathcal{O}]([\\ulu,\\olu] - \\mathring{u}) \n",
    "    & + [\\textsf{M}_w]([\\underline{w},\\overline{w}] - w_\\mathrm{nom}(t)) \\\\\n",
    "    & + f(x_\\mathrm{nom}(t),u_{\\mathrm{ff}}(t),w_\\mathrm{nom}(t)),\n",
    "\\end{aligned}\n",
    "$$\n",
    "with $[\\textsf{M}_x\\ \\textsf{M}_u\\ \\textsf{M}_w] := [\\textsf{M}_\\mathcal{O}^{\\xi_\\mathrm{nom}(t)}(\\underline{x},\\overline{x},u_\\mathrm{ff}(t),u_\\mathrm{ff}(t),\\underline{w},\\overline{w})]$, where $\\textsf{M}$ is defined as Proposition~\\ref{prop:MixedJacobian-Based} afor the map $\\hat{f} : \\mathbb{R}^{n+p+q} \\to \\mathbb{R}^n$ such that $\\hat{f}((x,u,w)) := f(x,u,w)$, for some $(n+p+q)$-ordering $\\mathcal{O}$, and $\\xi_\\mathrm{nom}(t) := (x_\\mathrm{nom}(t),u_\\mathrm{ff}(t),w_\\mathrm{nom}(t))$.\n",
    "This is a valid inclusion function for the closed-loop dynamics $f^\\pi$~\\eqref{eq:pendulumcldyn} (proof deferred to Appendix~\\ref{apax:sec:proofclpend}, which uses Proposition~\\ref{prop:MixedJacobian-Based} Part~\\eqref{prop:MixedJacobian-Based:p1}).\n",
    "\n",
    "We use the `mjacM` transform to implement the inclusion function in in `immrax`. We expect the nominal values to be given as an input to the inclusion function, which will be calculated externally."
   ]
  },
  {
   "cell_type": "code",
   "execution_count": 4,
   "metadata": {},
   "outputs": [],
   "source": [
    "sys_mjacM = irx.mjacM(sys.f)\n",
    "\n",
    "@jit\n",
    "def F (t:irx.Interval, x:irx.Interval, w:irx.Interval, K:jnp.ndarray, \n",
    "       nominal:Tuple[jnp.ndarray, jnp.ndarray, jnp.ndarray, jnp.ndarray]) :\n",
    "    tc, xc, uc, wc = nominal\n",
    "    Mt, Mx, Mu, Mw = sys_mjacM(t, x, irx.interval(uc), w, centers=(nominal,))[0]\n",
    "    return (\n",
    "        (Mx + Mu @ irx.interval(K)) @ (x - xc)\n",
    "        + Mw @ (w - wc) + sys.f(tc, xc, uc, wc)\n",
    "    )"
   ]
  },
  {
   "cell_type": "markdown",
   "metadata": {},
   "source": [
    "Following the treatment from the paper, now that we have an inclusion function for the dynamics of the system, we will embed the closed-loop pendulum dynamics into a new $2n$-dimensional embedding system that provides efficient bounds for its reachable set.\n",
    "$$\n",
    "\\dot{\\underline{x}}_i = \\underline{\\textsf{E}}_i(t,\\underline{x},\\overline{x},\\underline{w},\\overline{w}) := \\underline{\\textsf{F}}_i^\\pi(t,\\underline{x},\\overline{x}_{i:\\underline{x}},\\underline{w},\\overline{x}), \\\\\n",
    "\\dot{\\overline{x}}_i = \\overline{\\textsf{E}}_i(t,\\underline{x},\\overline{x},\\underline{w},\\overline{w}) := \\overline{\\textsf{F}}_i^\\pi(t,\\underline{x}_{i:\\overline{x}},\\overline{x},\\underline{w},\\overline{x}),\n",
    "$$\n",
    "This embedding is automatically performed in `immrax` by the `ifemb` transform, which takes a `System` and an inclusion function for its dynamics, and returns the corresponding `EmbeddingSystem`."
   ]
  },
  {
   "cell_type": "code",
   "execution_count": 5,
   "metadata": {},
   "outputs": [],
   "source": [
    "embsys = irx.ifemb(sys, F)"
   ]
  },
  {
   "cell_type": "markdown",
   "metadata": {},
   "source": [
    "## Using Autodiff to Setup an IPOPT Minimization Problem\n",
    "\n",
    "### The problem itself\n",
    "Now that we have the embedding system `embsys`, we will try to solve an optimization problem of the following form:\n",
    "$$\n",
    "\\begin{aligned}\n",
    "    \\min_{u_\\mathrm{ff}, K} &\\sum_{i=1}^N |u_{\\mathrm{ff}}(t_i)|^2 + \\|K\\|_F^2 + \\sum_{i=1}^N \\|\\overline{x}(t_i) - \\underline{x}(t_i)\\|_2^2 \\\\\n",
    "    \\text{s.t.}& \\ \\  \\underline{x}_f \\leq \\underline{x}(t_j),\\ \\ \\overline{x}(t_j) \\leq \\overline{x}_f, \\ \\ j=N_e,\\dots,N, \\ \\\\ \n",
    "    & \\underline{x}(0) = \\overline{x}(0) = (0, 0), \\\\\n",
    "    & \\left[\\begin{matrix} \\underline{x}(t_{i+1}) \\\\ \\overline{x}(t_{i+1}) \\end{matrix}\\right] = \\left[\\begin{matrix} \\underline{x}(t_{i}) \\\\ \\overline{x}(t_{i}) \\end{matrix}\\right] + \\Delta t \\textsf{E}(t_i,\\underline{x}(t_i),\\overline{x}(t_i),\\underline{w},\\overline{w}), \n",
    "\\end{aligned}\n",
    "$$\n",
    "where the embedding dynamics $\\textsf{E}$ are discretized using Euler integration with step size $\\Delta t$.\n",
    "\n",
    "The first and second terms of the objective are typical quadratic conditioning of the decision variables. The third term is a regularization factor intended to help curb the expansion of the gap between the upper and lower bound, which emperically helps the optimization problem converge to a feasible solution.\n",
    "Finally, in the inequality constraints, we require that the pendulum reach a target set $[\\underline{x}_f,\\overline{x}_f]$ and stay within these constraints for $t\\in[t_{N_e},t_N]$.\n",
    "\n",
    "#"
   ]
  },
  {
   "cell_type": "markdown",
   "metadata": {},
   "source": [
    "### Towards an IPOPT implementation\n",
    "\n",
    "In the following code, we define variables setting up the minimization problem with the following definitions:\n",
    "$$\n",
    "t_0 = 0,\\quad t_{N_e} = 3,\\quad t_N = 3.25,\\quad \\Delta t = 0.05, \\\\\n",
    "[\\underline{x}_f,\\overline{x}_f] = \\left[\\begin{bmatrix} \\pi - \\frac{10\\pi}{360} \\\\ -0.1 \\end{bmatrix} , \\begin{bmatrix} \\pi + \\frac{10\\pi}{360} \\\\ +0.1 \\end{bmatrix}\\right]\n",
    "$$"
   ]
  },
  {
   "cell_type": "code",
   "execution_count": 6,
   "metadata": {},
   "outputs": [],
   "source": [
    "# Problem Parameters\n",
    "\n",
    "# Time horizon and discretization\n",
    "t0, te, tf, dt = 0, 3., 3.25, 0.05\n",
    "Ne = round((te - t0)/dt) \n",
    "N = round((tf - t0)/dt) + 1\n",
    "tt = jnp.arange(t0, tf + dt, dt)\n",
    "\n",
    "# Initial condition (no initial perturbation)\n",
    "x0 = irx.interval(jnp.array([0.,0.]))\n",
    "x0ut = irx.i2ut(x0); x0cent, x0pert = irx.i2centpert(x0)\n",
    "\n",
    "# Final set constraint\n",
    "xf = irx.icentpert(jnp.array([jnp.pi,0.]), jnp.array([10.*(jnp.pi/360),0.1]))\n",
    "xfl, xfu = irx.i2lu(xf); xfut = irx.i2ut(xf); xfcent, xfpert = irx.i2centpert(xf)\n",
    "\n",
    "# Disturbance bounds [-0.02, 0.02]\n",
    "w = irx.icentpert(0., 0.02)"
   ]
  },
  {
   "cell_type": "markdown",
   "metadata": {},
   "source": [
    "We put all decision variables into one vector."
   ]
  },
  {
   "cell_type": "code",
   "execution_count": 7,
   "metadata": {},
   "outputs": [],
   "source": [
    "# Initial guess for control u_ff (zeros) and linear matrix K ([-1 -1])\n",
    "K = jnp.array([[-1.,-1.]])\n",
    "u0 = jnp.concatenate((jnp.zeros(N), K.reshape(-1)))\n",
    "\n",
    "# Function to split decision vector into u_ff and K\n",
    "def split_u (u:jax.Array) -> Tuple[jax.Array, jax.Array]:\n",
    "    return u[:-2], u[-2:].reshape(1,2)"
   ]
  },
  {
   "cell_type": "markdown",
   "metadata": {},
   "source": [
    "Next, we implement a couple of helper functions. They use `jax.lax.scan` to perform a simple and efficient Euler integration of the dynamics to the specified time horizon. We could use the `System.compute_trajectory` function instead, which uses `diffrax` to integrate the dynamics with many different options of integrators."
   ]
  },
  {
   "cell_type": "code",
   "execution_count": 8,
   "metadata": {},
   "outputs": [],
   "source": [
    "# Function to rollout the undisturbed pendulum dynamics using Euler integration\n",
    "@jit\n",
    "def rollout_ol_sys_undisturbed (u:jax.Array) -> jax.Array :\n",
    "    u, K = split_u(u)\n",
    "    def f_euler (xt, ut) :\n",
    "        xtp1 = xt + dt*sys.f(0., xt, jnp.array([ut]), jnp.array([0.]))\n",
    "        return (xtp1, xtp1)\n",
    "    _, x = jax.lax.scan(f_euler, x0cent, u)\n",
    "    return x\n",
    "\n",
    "# Function to rollout the closed-loop embedding system dynamics using Euler integration\n",
    "@jit\n",
    "def rollout_cl_embsys (u:jax.Array) -> jax.Array :\n",
    "    u, K = split_u(u)\n",
    "    def f_euler (xt, ut) :\n",
    "        xtut, xnomt = xt\n",
    "        xtutp1 = xtut + dt*embsys.E(irx.interval([0.]), xtut, w, K, \n",
    "                        (jnp.array([0.]), xnomt, jnp.array([ut]), jnp.array([0.])))\n",
    "        xnomtp1 = xnomt + dt*sys.f(0., xnomt, jnp.array([ut]), jnp.array([0.]))\n",
    "        return ((xtutp1,xnomtp1), xtutp1)\n",
    "    _, x = jax.lax.scan(f_euler, (x0ut, x0cent), u)\n",
    "    return x"
   ]
  },
  {
   "cell_type": "markdown",
   "metadata": {},
   "source": [
    "Using the `rollout_cl_embsys` function, we implement the desired objective function above."
   ]
  },
  {
   "cell_type": "code",
   "execution_count": 9,
   "metadata": {},
   "outputs": [],
   "source": [
    "# Objective Function\n",
    "@jit\n",
    "def obj (u:jax.Array) -> jax.Array :\n",
    "    x = rollout_cl_embsys(u)\n",
    "    return jnp.sum(u**2) + jnp.sum((x[:,2:] - x[:,:2])**2)"
   ]
  },
  {
   "cell_type": "markdown",
   "metadata": {},
   "source": [
    "Next, we implement the inequality terminal set constraints as a function $g(x) \\geq 0$."
   ]
  },
  {
   "cell_type": "code",
   "execution_count": 10,
   "metadata": {},
   "outputs": [],
   "source": [
    "# Inequality constraints\n",
    "@jit\n",
    "def con_ineq (u) :\n",
    "    x = rollout_cl_embsys(u)\n",
    "    return jnp.concatenate(((x[Ne:,:2] - xfl).reshape(-1), \n",
    "                            (xfu - x[Ne:,2:]).reshape(-1)))"
   ]
  },
  {
   "cell_type": "markdown",
   "metadata": {},
   "source": [
    "### The Automatic Differentiation Step\n",
    "\n",
    "Next, we use JAX's autodiff transforms to automatically create functions to compute the objective's gradient and Hessian, as well as the Jacobian and Hessian vector product of the constraints with respect to the Lagrange multipliers. We precompile (JIT compile) these functions to separate their compilation from the rest of the stack."
   ]
  },
  {
   "cell_type": "code",
   "execution_count": 11,
   "metadata": {},
   "outputs": [
    {
     "name": "stdout",
     "output_type": "stream",
     "text": [
      "JIT Compiling Autodiff Functions...\n",
      "Finished JIT Compiling Autodiff Functions in 147.51789116859436 seconds\n"
     ]
    }
   ],
   "source": [
    "obj_grad = jit(jax.grad(obj))  # Objective Gradient\n",
    "obj_hess = jit(jax.jacfwd(jax.jacrev(obj)))  # Objective Hessian\n",
    "con_ineq_jac = jit(jax.jacfwd(con_ineq))  # Constraint Jacobian\n",
    "con_ineq_hess = jit(jax.jacfwd(jax.jacrev(con_ineq))) # Constraint Hessian\n",
    "\n",
    "# Constraint Hessian-Vector Product\n",
    "@jit\n",
    "def con_ineq_hessvp (u, v) :\n",
    "    def hessvp (u) :\n",
    "        _, hvp = jax.vjp(con_ineq, u)\n",
    "        return hvp(v)[0] # One tangent, one output. u^T dc_v\n",
    "    return jax.jacrev(hessvp)(u) \n",
    "\n",
    "print('JIT Compiling Autodiff Functions...')\n",
    "from time import time\n",
    "time0 = time()\n",
    "obj_grad(u0)\n",
    "obj_hess(u0)\n",
    "con_ineq_jac(u0)\n",
    "con_ineq_hessvp(u0, jnp.ones(4*(N - Ne)))\n",
    "timef = time()\n",
    "print(f'Finished JIT Compiling Autodiff Functions in {timef - time0} seconds')"
   ]
  },
  {
   "cell_type": "markdown",
   "metadata": {},
   "source": [
    "## Minimization in IPOPT\n",
    "\n",
    "Finally, we solve the optimization problem from above using a call to IPOPT."
   ]
  },
  {
   "cell_type": "code",
   "execution_count": 60,
   "metadata": {},
   "outputs": [
    {
     "name": "stdout",
     "output_type": "stream",
     "text": [
      "Total number of variables............................:       68\n",
      "                     variables with only lower bounds:        0\n",
      "                variables with lower and upper bounds:        0\n",
      "                     variables with only upper bounds:        0\n",
      "Total number of equality constraints.................:        0\n",
      "Total number of inequality constraints...............:       24\n",
      "        inequality constraints with only lower bounds:       24\n",
      "   inequality constraints with lower and upper bounds:        0\n",
      "        inequality constraints with only upper bounds:        0\n",
      "\n",
      "\n",
      "Number of Iterations....: 100\n",
      "\n",
      "                                   (scaled)                 (unscaled)\n",
      "Objective...............:   1.0647937484146032e+01    1.0647937484146032e+01\n",
      "Dual infeasibility......:   4.2986259200329604e+00    4.2986259200329604e+00\n",
      "Constraint violation....:   1.3959558029932347e-04    1.3959558029932347e-04\n",
      "Variable bound violation:   0.0000000000000000e+00    0.0000000000000000e+00\n",
      "Complementarity.........:   5.2871361388319297e-04    5.2871361388319297e-04\n",
      "Overall NLP error.......:   4.2986259200329604e+00    4.2986259200329604e+00\n",
      "\n",
      "\n",
      "Number of objective function evaluations             = 190\n",
      "Number of objective gradient evaluations             = 101\n",
      "Number of equality constraint evaluations            = 0\n",
      "Number of inequality constraint evaluations          = 194\n",
      "Number of equality constraint Jacobian evaluations   = 0\n",
      "Number of inequality constraint Jacobian evaluations = 102\n",
      "Number of Lagrangian Hessian evaluations             = 100\n",
      "Total seconds in IPOPT                               = 1.473\n",
      "\n",
      "EXIT: Maximum Number of Iterations Exceeded.\n"
     ]
    }
   ],
   "source": [
    "from cyipopt import minimize_ipopt\n",
    "\n",
    "# Constraints\n",
    "cons = [ {'type': 'ineq', 'fun': con_ineq, 'jac': con_ineq_jac, 'hess': con_ineq_hessvp}, ]\n",
    "bnds = [(-100.,100.) for _ in range(u0.size)]\n",
    "\n",
    "ipopt_opts = {\n",
    "    b'disp': 4, \n",
    "    b'linear_solver': 'ma57', \n",
    "    b'hsllib': 'libcoinhsl.so', \n",
    "    b'tol': 1e-3,\n",
    "    b'max_iter': 100,\n",
    "}\n",
    "\n",
    "# Solve the optimization problem\n",
    "res = minimize_ipopt(obj, jac=obj_grad, hess=obj_hess, x0=u0,\n",
    "                     constraints=cons, options=ipopt_opts)"
   ]
  },
  {
   "cell_type": "markdown",
   "metadata": {},
   "source": [
    "## Visualizing the Results"
   ]
  },
  {
   "cell_type": "code",
   "execution_count": 61,
   "metadata": {},
   "outputs": [
    {
     "name": "stdout",
     "output_type": "stream",
     "text": [
      "u_ff = [-0.06233343 -0.0666771  -0.06254942 -0.05261426 -0.0353426  -0.0111303\n",
      " -0.00681361  0.02923769  0.06121546  0.05716339  0.09016525  0.12430726\n",
      "  0.15690694  0.18333536  0.20098078  0.20719559  0.20074864  0.18099523\n",
      "  0.14794037  0.10225266  0.04525568 -0.00929336 -0.08109409 -0.15420389\n",
      " -0.20200888 -0.27202901 -0.33695388 -0.38967078 -0.4254703  -0.44053733\n",
      " -0.43283384 -0.40175101 -0.34796937 -0.27305095 -0.17894583 -0.06766852\n",
      "  0.05264748  0.19070078  0.33686261  0.47115414  0.61887755  0.75252526\n",
      "  0.8604839   0.93080056  0.95746499  0.94144209  0.89036706  0.81600452\n",
      "  0.73015123  0.6416791   0.55738905  0.47822694  0.40607225  0.33948423\n",
      "  0.27704514  0.21643875  0.15489317  0.08883818  0.01470794 -0.06205491\n",
      " -0.173182    0.03346078  0.03335895  0.02438117  0.00528881 -0.0138604 ],\n",
      "K = [[ 0.04053638 -0.74380821]]\n"
     ]
    }
   ],
   "source": [
    "# Plotting imports\n",
    "import matplotlib.pyplot as plt\n",
    "import matplotlib.animation as animation\n",
    "from matplotlib.patches import Wedge\n",
    "from immrax.utils import plot_interval_t\n",
    "\n",
    "# Use latex fonts\n",
    "plt.rcParams.update({\n",
    "    \"text.usetex\": True,\n",
    "    \"font.family\": \"Helvetica\",\n",
    "    \"font.size\": 14\n",
    "})\n",
    "\n",
    "uu = res.x\n",
    "print(f'u_ff = {split_u(uu)[0]},\\nK = {split_u(uu)[1]}')"
   ]
  },
  {
   "cell_type": "code",
   "execution_count": 64,
   "metadata": {},
   "outputs": [
    {
     "name": "stdout",
     "output_type": "stream",
     "text": [
      "Constraints satisfied to -0.00013960558029932346!\n"
     ]
    },
    {
     "data": {
      "application/vnd.jupyter.widget-view+json": {
       "model_id": "4ab19a2a308143c096e767a07909c7bb",
       "version_major": 2,
       "version_minor": 0
      },
      "image/png": "[encoded data removed]",
      "text/html": [
       "\n",
       "            <div style=\"display: inline-block;\">\n",
       "                <div class=\"jupyter-widgets widget-label\" style=\"text-align: center;\">\n",
       "                    Figure\n",
       "                </div>\n",
       "                <img src='data:image/png;base64,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' width=800.0/>\n",
       "            </div>\n",
       "        "
      ],
      "text/plain": [
       "Canvas(toolbar=Toolbar(toolitems=[('Home', 'Reset original view', 'home', 'home'), ('Back', 'Back to previous …"
      ]
     },
     "metadata": {},
     "output_type": "display_data"
    }
   ],
   "source": [
    "# Trajectory vs time\n",
    "\n",
    "unrolledout = rollout_ol_sys_undisturbed(uu)\n",
    "clrolledout = rollout_cl_embsys(uu)\n",
    "\n",
    "if jnp.all(con_ineq(uu) >= -1e-3) :\n",
    "    print(f'Constraints satisfied to {jnp.min(con_ineq(uu))}!')\n",
    "else :\n",
    "    print(f'Constraints not satisfied, worst is {jnp.min(con_ineq(uu))}!')\n",
    "    print(con_ineq(uu))\n",
    "\n",
    "fig1, axs = plt.subplots(1,2,dpi=100,figsize=[8,4])\n",
    "fig1.subplots_adjust(top=0.95, bottom=0.15, left=0.075, right=0.975)\n",
    "\n",
    "axs[0].set_xlabel('$t$'); axs[1].set_xlabel('$t$')\n",
    "axs[0].set_ylabel('$\\\\theta$', rotation=0, labelpad=5)\n",
    "axs[1].set_ylabel('$\\\\dot{\\\\theta}$', rotation=0, labelpad=5)\n",
    "axs[0].plot(tt, unrolledout[:,0], color='k')\n",
    "axs[1].plot(tt, unrolledout[:,1], color='k')\n",
    "plot_interval_t(axs[0], tt, xf[0]*jnp.ones(N), color='k')\n",
    "plot_interval_t(axs[1], tt, xf[1]*jnp.ones(N), color='k')\n",
    "plot_interval_t(axs[0], tt, irx.interval(clrolledout[:,0], clrolledout[:,2]), color='tab:blue')\n",
    "plot_interval_t(axs[1], tt, irx.interval(clrolledout[:,1], clrolledout[:,3]), color='tab:blue')\n",
    "fig1.savefig('figures/pendulum.pdf')\n",
    "\n",
    "plt.close()\n",
    "\n",
    "from IPython.display import Image\n",
    "Image('./figures/pendulum.pdf')"
   ]
  },
  {
   "cell_type": "markdown",
   "metadata": {},
   "source": [
    "If the figure did not load, please see [pendulum.pdf](./figures/pendulum.pdf)."
   ]
  },
  {
   "cell_type": "code",
   "execution_count": 65,
   "metadata": {},
   "outputs": [
    {
     "data": {
      "text/html": [
       "<video src=\"figures/pendulum.mp4\" controls  >\n",
       "      Your browser does not support the <code>video</code> element.\n",
       "    </video>"
      ],
      "text/plain": [
       "<IPython.core.display.Video object>"
      ]
     },
     "execution_count": 65,
     "metadata": {},
     "output_type": "execute_result"
    }
   ],
   "source": [
    "# Animation of pendulum\n",
    "\n",
    "to_plot = [clrolledout]\n",
    "th2deg = lambda th : (th * 180) / jnp.pi - 90\n",
    "anifig, anim = plt.subplots(1,len(to_plot),dpi=100,figsize=[4,4])\n",
    "anifig.subplots_adjust()\n",
    "wedge = anim.add_patch(Wedge((0,0),sys.l,th2deg(clrolledout[0,0]),th2deg(clrolledout[0,2]), lw=2, ec='k'))\n",
    "anim.add_patch(Wedge((0,0), sys.l, th2deg(xfl[0]), th2deg(xfu[0]), color='k', alpha=0.25))\n",
    "anim.set_xlim(-sys.l*1.2, sys.l*1.2)\n",
    "anim.set_ylim(-sys.l*1.2, sys.l*1.2)\n",
    "def animate(t) :\n",
    "    wedge.set( theta1 = th2deg(clrolledout[t,0]), theta2 = th2deg(clrolledout[t,2]) )\n",
    "    anifig.suptitle(f'$t = {t*dt:.2f}$')\n",
    "    anifig.savefig(f'figures/frames/pendulum_{t:05d}.pdf')\n",
    "\n",
    "ani = animation.FuncAnimation(anifig, animate, frames=N, repeat=True, interval=dt*1000)\n",
    "\n",
    "FFwriter = animation.FFMpegWriter(fps=(1/dt))\n",
    "ani.save('figures/pendulum.mp4', writer=FFwriter)\n",
    "\n",
    "plt.close()\n",
    "\n",
    "from IPython.display import Video\n",
    "Video('figures/pendulum.mp4')"
   ]
  },
  {
   "cell_type": "markdown",
   "metadata": {},
   "source": [
    "If the video did not render, please see [pendulum.mp4](./figures/pendulum.mp4)."
   ]
  }
 ],
 "metadata": {
  "kernelspec": {
   "display_name": "immrax",
   "language": "python",
   "name": "python3"
  },
  "language_info": {
   "codemirror_mode": {
    "name": "ipython",
    "version": 3
   },
   "file_extension": ".py",
   "mimetype": "text/x-python",
   "name": "python",
   "nbconvert_exporter": "python",
   "pygments_lexer": "ipython3",
   "version": "3.12.0"
  }
 },
 "nbformat": 4,
 "nbformat_minor": 2
}
