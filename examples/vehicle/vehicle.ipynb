{
 "cells": [
  {
   "cell_type": "markdown",
   "metadata": {},
   "source": [
    "# Neural Network Controlled System Reachability on a Vehicle Model\n",
    "In this example, we exploit the power of parallization on a GPU to efficiently compute accurate reachable sets of a nonlinear vehicle.\n",
    "\n",
    "This example is from ....\n",
    "\n",
    "## Preliminaries\n",
    "\n",
    "If JAX was configured correctly with a GPU, then `device = 'gpu'`"
   ]
  },
  {
   "cell_type": "code",
   "execution_count": null,
   "metadata": {},
   "outputs": [],
   "source": [
    "import jax\n",
    "import jax.numpy as jnp\n",
    "import immrax as irx\n",
    "\n",
    "device = 'gpu'\n",
    "\n",
    "def jit (*args, **kwargs) :\n",
    "    kwargs.setdefault('backend', device)\n",
    "    return jax.jit(*args, **kwargs)"
   ]
  }
 ],
 "metadata": {
  "language_info": {
   "name": "python"
  }
 },
 "nbformat": 4,
 "nbformat_minor": 2
}
